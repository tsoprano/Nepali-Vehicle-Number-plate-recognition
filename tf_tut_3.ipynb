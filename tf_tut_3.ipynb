{
 "cells": [
  {
   "cell_type": "code",
   "execution_count": 37,
   "id": "1b59fd2a",
   "metadata": {},
   "outputs": [],
   "source": [
    "import tensorflow as tf\n",
    "from tensorflow.keras.models import Sequential\n",
    "from tensorflow.keras.layers import Dense, Dropout, Activation, Flatten, Conv2D, MaxPooling2D\n",
    "import pickle\n",
    "import numpy as np\n",
    "from tensorflow.keras.callbacks import TensorBoard\n",
    "import time"
   ]
  },
  {
   "cell_type": "code",
   "execution_count": 38,
   "id": "24c952b1",
   "metadata": {},
   "outputs": [],
   "source": [
    "NAME = \"nepali_numerals_cnn_64x2-{}\".format(int(time.time()))\n",
    "tensorBoard = TensorBoard(log_dir = 'logs/{}'.format(NAME))\n",
    "\n",
    "X = pickle.load(open(\"X.pickle\", \"rb\"))\n",
    "y = pickle.load(open(\"y.pickle\", \"rb\"))\n",
    "\n",
    "X = X/255.0\n",
    "y = np.array(y)"
   ]
  },
  {
   "cell_type": "code",
   "execution_count": 39,
   "id": "37676f6e",
   "metadata": {},
   "outputs": [
    {
     "data": {
      "text/plain": [
       "(2129, 50, 50, 1)"
      ]
     },
     "execution_count": 39,
     "metadata": {},
     "output_type": "execute_result"
    }
   ],
   "source": [
    "X.shape\n"
   ]
  },
  {
   "cell_type": "code",
   "execution_count": 42,
   "id": "55ca4715",
   "metadata": {},
   "outputs": [
    {
     "name": "stdout",
     "output_type": "stream",
     "text": [
      "Epoch 1/10\n",
      "96/96 [==============================] - 3s 30ms/step - loss: 2.4679 - accuracy: 0.1362 - val_loss: 2.2432 - val_accuracy: 0.2535\n",
      "Epoch 2/10\n",
      "96/96 [==============================] - 3s 28ms/step - loss: 1.5701 - accuracy: 0.5130 - val_loss: 1.2011 - val_accuracy: 0.6620\n",
      "Epoch 3/10\n",
      "96/96 [==============================] - 3s 27ms/step - loss: 0.8865 - accuracy: 0.7641 - val_loss: 0.8683 - val_accuracy: 0.7746\n",
      "Epoch 4/10\n",
      "96/96 [==============================] - 3s 27ms/step - loss: 0.6301 - accuracy: 0.8325 - val_loss: 0.7115 - val_accuracy: 0.8310\n",
      "Epoch 5/10\n",
      "96/96 [==============================] - 3s 27ms/step - loss: 0.4838 - accuracy: 0.8700 - val_loss: 0.7381 - val_accuracy: 0.8169\n",
      "Epoch 6/10\n",
      "96/96 [==============================] - ETA: 0s - loss: 0.3885 - accuracy: 0.89 - 3s 27ms/step - loss: 0.3884 - accuracy: 0.8951 - val_loss: 0.6714 - val_accuracy: 0.8310\n",
      "Epoch 7/10\n",
      "96/96 [==============================] - 3s 27ms/step - loss: 0.3067 - accuracy: 0.9212 - val_loss: 0.5533 - val_accuracy: 0.8638\n",
      "Epoch 8/10\n",
      "96/96 [==============================] - 3s 27ms/step - loss: 0.2470 - accuracy: 0.9337 - val_loss: 0.5299 - val_accuracy: 0.8638\n",
      "Epoch 9/10\n",
      "96/96 [==============================] - 3s 27ms/step - loss: 0.1953 - accuracy: 0.9525 - val_loss: 0.5849 - val_accuracy: 0.8545\n",
      "Epoch 10/10\n",
      "96/96 [==============================] - 3s 27ms/step - loss: 0.1558 - accuracy: 0.9614 - val_loss: 0.5387 - val_accuracy: 0.8638\n"
     ]
    },
    {
     "data": {
      "text/plain": [
       "<keras.callbacks.History at 0x20683d3d460>"
      ]
     },
     "execution_count": 42,
     "metadata": {},
     "output_type": "execute_result"
    }
   ],
   "source": [
    "model = Sequential()\n",
    "\n",
    "model.add(Conv2D(64, (3,3), input_shape=X.shape[1:]))\n",
    "model.add(Activation(\"relu\"))\n",
    "model.add(MaxPooling2D(pool_size=(2,2)))\n",
    "\n",
    "model.add(Conv2D(64, (3,3)))\n",
    "model.add(Activation(\"relu\"))\n",
    "model.add(MaxPooling2D(pool_size=(2,2)))\n",
    "\n",
    "model.add(Flatten())\n",
    "model.add(Dense(64))\n",
    "model.add(Activation(\"relu\"))\n",
    "\n",
    "model.add(Dense(13))\n",
    "model.add(Activation(\"sigmoid\"))\n",
    "\n",
    "model.compile(loss = 'sparse_categorical_crossentropy',\n",
    "             optimizer = 'adam',\n",
    "             metrics = ['accuracy'])\n",
    "\n",
    "model.fit(X, y, batch_size = 20, epochs=10, validation_split = 0.1, callbacks = [tensorBoard])\n"
   ]
  },
  {
   "cell_type": "code",
   "execution_count": 44,
   "id": "226540eb",
   "metadata": {},
   "outputs": [
    {
     "name": "stdout",
     "output_type": "stream",
     "text": [
      "INFO:tensorflow:Assets written to: 64x2-CNN.model\\assets\n"
     ]
    }
   ],
   "source": [
    "model.save(\"64x2-CNN.model\")"
   ]
  },
  {
   "cell_type": "code",
   "execution_count": null,
   "id": "aea902df",
   "metadata": {},
   "outputs": [],
   "source": []
  }
 ],
 "metadata": {
  "kernelspec": {
   "display_name": "Python 3",
   "language": "python",
   "name": "python3"
  },
  "language_info": {
   "codemirror_mode": {
    "name": "ipython",
    "version": 3
   },
   "file_extension": ".py",
   "mimetype": "text/x-python",
   "name": "python",
   "nbconvert_exporter": "python",
   "pygments_lexer": "ipython3",
   "version": "3.8.8"
  }
 },
 "nbformat": 4,
 "nbformat_minor": 5
}
