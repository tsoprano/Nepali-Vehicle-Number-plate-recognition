{
 "cells": [
  {
   "cell_type": "code",
   "execution_count": 3,
   "id": "c19633d7",
   "metadata": {},
   "outputs": [],
   "source": [
    "import cv2\n",
    "import tensorflow as tf\n",
    "import os"
   ]
  },
  {
   "cell_type": "code",
   "execution_count": null,
   "id": "e1d2776d",
   "metadata": {},
   "outputs": [],
   "source": []
  },
  {
   "cell_type": "code",
   "execution_count": 6,
   "id": "a7eedfdb",
   "metadata": {},
   "outputs": [],
   "source": [
    "#C:\\Users\\saimo\\Pictures\n",
    "IMG_PATH = \"C:/Users/saimo/Pictures/test\"\n",
    "CATEGORIES = [\"0\",\"1\",\"2\",\"3\",\"4\",\"5\",\"6\",\"7\",\"8\",\"9\",\"0\",\"ba\",\"pa\"]"
   ]
  },
  {
   "cell_type": "code",
   "execution_count": 7,
   "id": "290e3910",
   "metadata": {},
   "outputs": [
    {
     "name": "stdout",
     "output_type": "stream",
     "text": [
      "C:/Users/saimo/Pictures/test\\0.jpg -> [[1. 1. 1. 1. 0. 0. 0. 1. 1. 0. 0. 1. 1.]]\n",
      "C:/Users/saimo/Pictures/test\\1.jpg -> [[0. 1. 1. 0. 1. 1. 0. 0. 0. 0. 0. 0. 1.]]\n",
      "C:/Users/saimo/Pictures/test\\3.jpg -> [[1. 0. 1. 1. 1. 0. 0. 1. 0. 0. 0. 1. 1.]]\n",
      "C:/Users/saimo/Pictures/test\\8.jpg -> [[1. 1. 1. 0. 0. 0. 1. 0. 1. 0. 0. 0. 1.]]\n",
      "C:/Users/saimo/Pictures/test\\ba.jpg -> [[0.0000000e+00 1.7885628e-13 1.0000000e+00 1.0000000e+00 1.0000000e+00\n",
      "  1.0000000e+00 0.0000000e+00 0.0000000e+00 0.0000000e+00 0.0000000e+00\n",
      "  0.0000000e+00 1.0000000e+00 1.0000000e+00]]\n"
     ]
    }
   ],
   "source": [
    "def prepare(filepath):\n",
    "    IMAGE_SIZE = 50\n",
    "    img_array = cv2.imread(filepath, cv2.IMREAD_GRAYSCALE)\n",
    "    new_array = cv2.resize(img_array, (IMAGE_SIZE, IMAGE_SIZE))\n",
    "    return new_array.reshape(-1, IMAGE_SIZE, IMAGE_SIZE, 1)\n",
    "\n",
    "model = tf.keras.models.load_model(\"64x2-CNN.model\")\n",
    "\n",
    "for file in os.listdir(IMG_PATH):\n",
    "    image = os.path.join(IMG_PATH, file)\n",
    "    prediction = model.predict([prepare(image)])\n",
    "    print(\"{} -> {}\".format(image, prediction))\n",
    "    \n",
    "    "
   ]
  },
  {
   "cell_type": "code",
   "execution_count": null,
   "id": "76f58451",
   "metadata": {},
   "outputs": [],
   "source": []
  }
 ],
 "metadata": {
  "kernelspec": {
   "display_name": "Python 3",
   "language": "python",
   "name": "python3"
  },
  "language_info": {
   "codemirror_mode": {
    "name": "ipython",
    "version": 3
   },
   "file_extension": ".py",
   "mimetype": "text/x-python",
   "name": "python",
   "nbconvert_exporter": "python",
   "pygments_lexer": "ipython3",
   "version": "3.8.8"
  }
 },
 "nbformat": 4,
 "nbformat_minor": 5
}
